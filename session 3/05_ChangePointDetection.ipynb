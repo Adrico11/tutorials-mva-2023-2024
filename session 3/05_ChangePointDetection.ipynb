{
 "cells": [
  {
   "cell_type": "markdown",
   "metadata": {},
   "source": [
    "**Machine Learning for Time Series (Master MVA)**\n",
    "\n",
    "- [Link to the class material.](http://www.laurentoudre.fr/ast.html)"
   ]
  },
  {
   "cell_type": "markdown",
   "metadata": {},
   "source": [
    "# Introduction\n",
    "\n",
    "In this notebook, we illustrate the following concept:\n",
    "- change point detection."
   ]
  },
  {
   "cell_type": "markdown",
   "metadata": {},
   "source": [
    "## Setup"
   ]
  },
  {
   "cell_type": "markdown",
   "metadata": {},
   "source": [
    "**Import**"
   ]
  },
  {
   "cell_type": "code",
   "execution_count": null,
   "metadata": {},
   "outputs": [],
   "source": [
    "import datetime as dt\n",
    "from math import log\n",
    "import IPython\n",
    "\n",
    "import matplotlib as mpl\n",
    "import matplotlib.pyplot as plt\n",
    "import numpy as np\n",
    "import pandas as pd\n",
    "import ruptures as rpt\n",
    "from loadmydata.load_uea_ucr import load_uea_ucr_data\n",
    "from matplotlib.dates import DateFormatter\n",
    "from ruptures.base import BaseCost\n",
    "from ruptures.metrics import hausdorff\n",
    "from scipy.stats import ttest_ind\n",
    "from scipy.optimize import minimize\n",
    "from scipy.signal import chirp, stft, sweep_poly\n",
    "\n",
    "rng = np.random.default_rng()"
   ]
  },
  {
   "cell_type": "markdown",
   "metadata": {},
   "source": [
    "**Utility functions**"
   ]
  },
  {
   "cell_type": "code",
   "execution_count": null,
   "metadata": {
    "tags": []
   },
   "outputs": [],
   "source": [
    "def fig_ax(nrows=1, figsize=(15, 3)):\n",
    "    return plt.subplots(nrows=nrows, figsize=(figsize[0], figsize[1] * nrows))"
   ]
  },
  {
   "cell_type": "code",
   "execution_count": null,
   "metadata": {},
   "outputs": [],
   "source": [
    "myFmt = DateFormatter(\"%H:%M\")\n",
    "\n",
    "def plot_clinear_approx(time_index, signal, bkps, ax=None):\n",
    "    # plot\n",
    "    ax.plot(time_index, signal)\n",
    "    # plot changes\n",
    "    for b in bkps[:-1]:\n",
    "        ax.axvline(time_index[b], ls=\"--\", color=\"k\")\n",
    "    # add linear approximation\n",
    "    indexes = np.r_[0, np.array(bkps) - 1]\n",
    "    ax.plot(\n",
    "        np.take(time_index, indexes),\n",
    "        np.take(signal, indexes),\n",
    "        color=\"k\",\n",
    "        alpha=0.5,\n",
    "    )\n",
    "    ax.scatter(\n",
    "        np.take(time_index, indexes),\n",
    "        np.take(signal, indexes),\n",
    "        color=\"r\",\n",
    "        alpha=0.5,\n",
    "        s=100,\n",
    "        marker=\"*\",\n",
    "    )\n",
    "    ax.margins(x=0)\n",
    "    ax.xaxis.set_major_formatter(myFmt)"
   ]
  },
  {
   "cell_type": "code",
   "execution_count": null,
   "metadata": {},
   "outputs": [],
   "source": [
    "tones = {\"1\": (697, 1209), \"2\": (697, 1336), \"3\": (697, 1477), \"4\": (770, 1209), \"5\": (770, 1336), \"6\": (770, 1477), \"7\": (852, 1209), \"8\": (852, 1336), \"9\": (852, 1477), \"0\": (941, 1336), \"*\": (941, 1209), \"#\": (941, 1477), \"A\": (697, 1633), \"B\": (770, 1633), \"C\": (852, 1633), \"D\": (941, 1633)}"
   ]
  },
  {
   "cell_type": "code",
   "execution_count": null,
   "metadata": {},
   "outputs": [],
   "source": [
    "def generate_symbol(symbol, duration, fs):\n",
    "    \"\"\"Generate the sound for number with given duration\"\"\"\n",
    "    # get both frequencies for the symbol\n",
    "    f1, f2 = tones[symbol]\n",
    "    # time array\n",
    "    time_arr = np.arange(0, duration, 1 / fs)\n",
    "    # audio signal\n",
    "    signal = np.cos(2 * np.pi * f1 * time_arr) + np.cos(2 * np.pi * f2 * time_arr)\n",
    "    return signal"
   ]
  },
  {
   "cell_type": "code",
   "execution_count": null,
   "metadata": {},
   "outputs": [],
   "source": [
    "n_symbols = rng.integers(3, 12)\n",
    "list_of_symbols = rng.choice(list(\"1234567890*#ABCD\"), size=n_symbols)\n",
    "duration = rng.uniform(low=0.05, high=0.2)  # seconds\n",
    "duration\n",
    "symbol_signal = generate_symbol(symbol=\"1\", duration=duration, fs=FS)"
   ]
  },
  {
   "cell_type": "code",
   "execution_count": null,
   "metadata": {},
   "outputs": [],
   "source": [
    "FS = 22_050  # Hz\n",
    "sigma = 2\n",
    "\n",
    "def generate_signal():\n",
    "    \n",
    "    n_symbols = rng.integers(3, 12)\n",
    "    list_of_symbols = rng.choice(list(\"1234567890*#ABCD\"), size=n_symbols)\n",
    "\n",
    "    list_of_segments = list()\n",
    "\n",
    "    for symbol in list_of_symbols:\n",
    "        duration = rng.uniform(low=0.05, high=0.2)  # seconds\n",
    "        # generate tone\n",
    "        symbol_signal = generate_symbol(symbol=symbol, duration=duration, fs=FS)\n",
    "        # generate silence\n",
    "        silence = np.zeros(int(duration*FS))\n",
    "        # append tone and silence\n",
    "        list_of_segments.extend([symbol_signal, silence])\n",
    "\n",
    "    # silence at the start\n",
    "    silence = np.zeros(int(duration*FS))\n",
    "    list_of_segments = [silence] + list_of_segments\n",
    "\n",
    "    signal = np.concatenate(list_of_segments)\n",
    "    n_samples = signal.shape[0]\n",
    "    time_array = np.arange(n_samples) / FS\n",
    "    \n",
    "    # add nuissance\n",
    "    inst_freq = np.sin(2 * np.pi * 1.2 * time_array) * 1500 + 2000\n",
    "    poly = np.polyfit(x=time_array, y=inst_freq, deg=14)\n",
    "    sin_freq = sweep_poly(time_array, poly)\n",
    "    signal += sin_freq\n",
    "    # add white noise\n",
    "    signal += rng.normal(scale=sigma, size=n_samples)\n",
    "\n",
    "    return signal, list_of_symbols.tolist()\n"
   ]
  },
  {
   "cell_type": "markdown",
   "metadata": {},
   "source": [
    "# Change point detection\n",
    "\n",
    "Change point detection consists in finding the temporal boundaries of homogeneous portions of a signal."
   ]
  },
  {
   "cell_type": "markdown",
   "metadata": {},
   "source": [
    "## Mean shift detection\n",
    "\n",
    "The simplest (and oldest) change point detection methods deals with mean shifts."
   ]
  },
  {
   "cell_type": "markdown",
   "metadata": {},
   "source": [
    "### Single change point\n",
    "\n",
    "We start by trying to detect a single shift in mean (in a synthetic signal)."
   ]
  },
  {
   "cell_type": "code",
   "execution_count": null,
   "metadata": {},
   "outputs": [],
   "source": [
    "# generate signal\n",
    "n_samples = 200\n",
    "n_bkps = 1\n",
    "n_dims = 1\n",
    "sigma_noise = 2\n",
    "signal, bkps = rpt.pw_constant(\n",
    "    n_samples=n_samples, n_features=n_dims, n_bkps=n_bkps, noise_std=0\n",
    ")\n",
    "signal_with_noise = signal + np.random.normal(\n",
    "    scale=sigma_noise, size=signal.shape\n",
    ")\n",
    "\n",
    "fig, ax = fig_ax()\n",
    "ax.plot(signal, label=\"True\")\n",
    "ax.plot(signal_with_noise, label=\"Observed\")\n",
    "_ = plt.legend()"
   ]
  },
  {
   "cell_type": "markdown",
   "metadata": {},
   "source": [
    "We fit the noisy signal with a piecewise constant function with a single discontinuity. The best fit is the function which minimizes the norm of the residuals.\n",
    "\n",
    "For a $T$-sample signal $y$ and an index $a$, this amounts to:\n",
    "\n",
    "$$\n",
    "\\sum_{t< a} \\|y_t-\\bar{y}_{0..a}\\|^2 + \\sum_{t\\geq a} \\|y_t-\\bar{y}_{a..T}\\|^2\n",
    "$$\n",
    "\n",
    "where $\\bar{y}_{\\text{left}}$ and $\\bar{y}_{\\text{right}}$ are the empirical means of $\\{y_0,\\dots,y_{a-1}\\}$ and $\\{y_a,\\dots,y_{T-1}\\}$ respectively.\n",
    "\n",
    "The detection procedure consists in finding the index $a$ that minimizes this sum of costs."
   ]
  },
  {
   "cell_type": "code",
   "execution_count": null,
   "metadata": {},
   "outputs": [],
   "source": [
    "sum_of_cost_list = list()\n",
    "\n",
    "admissible_change_points = np.arange(1, n_samples - 1)\n",
    "\n",
    "for mid_point in admissible_change_points:\n",
    "    sum_of_cost = signal_with_noise[\n",
    "        :mid_point\n",
    "    ].var() * mid_point + signal_with_noise[mid_point:].var() * (\n",
    "        n_samples - mid_point\n",
    "    )\n",
    "    sum_of_cost_list.append(sum_of_cost)\n",
    "\n",
    "fig, ax = fig_ax(figsize=(6, 3))\n",
    "ax.plot(admissible_change_points, sum_of_cost_list)\n",
    "\n",
    "# take the minimum sum of costs\n",
    "detected_change_point = admissible_change_points[np.argmin(sum_of_cost_list)]\n",
    "\n",
    "# add a vertical dashed line\n",
    "ax.axvline(detected_change_point, ls=\"--\", color=\"k\")"
   ]
  },
  {
   "cell_type": "markdown",
   "metadata": {},
   "source": [
    "<div class=\"alert alert-success\" role=\"alert\">\n",
    "    <p><b>Question</b></p>\n",
    "    <p>What happens to the sum of costs when the noise varies?</p>\n",
    "    <p>And when the number of samples increases?</p>\n",
    "</div>"
   ]
  },
  {
   "cell_type": "code",
   "execution_count": null,
   "metadata": {},
   "outputs": [],
   "source": []
  },
  {
   "cell_type": "markdown",
   "metadata": {},
   "source": [
    "To check if a change point is indeed present, let us do a t-test between the left part of the signal and the right part of the signal."
   ]
  },
  {
   "cell_type": "code",
   "execution_count": null,
   "metadata": {},
   "outputs": [],
   "source": [
    "ttest_ind(\n",
    "    signal_with_noise[:detected_change_point],\n",
    "    signal_with_noise[detected_change_point:],\n",
    ")"
   ]
  },
  {
   "cell_type": "markdown",
   "metadata": {},
   "source": [
    "At first sight, the detected change seems to be statistically significant.\n",
    "\n",
    "However, let us test this procedure on a pure noise signal."
   ]
  },
  {
   "cell_type": "markdown",
   "metadata": {},
   "source": [
    "<div class=\"alert alert-success\" role=\"alert\">\n",
    "    <p><b>Question</b></p>\n",
    "    <p>Perform the same procedure as before on the pure noise signal. According to the t-test, is there a change point?</p>\n",
    "    <p>What went wrong?</p>\n",
    "</div>"
   ]
  },
  {
   "cell_type": "code",
   "execution_count": null,
   "metadata": {},
   "outputs": [],
   "source": []
  },
  {
   "cell_type": "markdown",
   "metadata": {},
   "source": [
    "We will introduce later a criterion to assess the presence of a change."
   ]
  },
  {
   "cell_type": "markdown",
   "metadata": {},
   "source": [
    "### Multiple change points (known $K$)\n",
    "\n",
    "To extend the detection to more than one change, we simply some the costs of each segment defined by the $K$ change points $t_1,\\dots,t_K$:\n",
    "\n",
    "$$\n",
    "\\sum_{t=0}^{t_1-1} \\|y_t-\\bar{y}_{0..t_1}\\|^2 + \\sum_{t=t_1}^{t_2-1} \\|y_t-\\bar{y}_{t_1..t_2}\\|^2 + \\dots + \\sum_{t=t_K}^{T-1} \\|y_t-\\bar{y}_{t_K..T}\\|^2.\n",
    "$$\n",
    "\n",
    "We minimize over the $t_k$, using dynamic programming. (Other methods exists, e.g. binary segmentation, bottom-up, window-based, but are only approximate.)"
   ]
  },
  {
   "cell_type": "code",
   "execution_count": null,
   "metadata": {},
   "outputs": [],
   "source": [
    "# generate signal\n",
    "n_samples = 200\n",
    "n_bkps = 3\n",
    "n_dims = 2\n",
    "sigma_noise = 5\n",
    "signal, bkps = rpt.pw_constant(\n",
    "    n_samples=n_samples, n_features=n_dims, n_bkps=n_bkps, noise_std=0\n",
    ")\n",
    "signal_with_noise = signal + np.random.normal(\n",
    "    scale=sigma_noise, size=signal.shape\n",
    ")\n",
    "\n",
    "# display\n",
    "fig, ax_arr = fig_ax(nrows=n_dims)\n",
    "for (signal1d, signal1d_with_noise, ax) in zip(\n",
    "    signal.T, signal_with_noise.T, ax_arr\n",
    "):\n",
    "    ax.plot(signal1d)\n",
    "    ax.plot(signal1d_with_noise)\n",
    "    ax.set_xlim(0, n_samples)"
   ]
  },
  {
   "cell_type": "markdown",
   "metadata": {},
   "source": [
    "Perform change point detection using dynamic programming."
   ]
  },
  {
   "cell_type": "code",
   "execution_count": null,
   "metadata": {},
   "outputs": [],
   "source": [
    "algo = rpt.Dynp(model=\"l2\", jump=1).fit(signal_with_noise)"
   ]
  },
  {
   "cell_type": "code",
   "execution_count": null,
   "metadata": {},
   "outputs": [],
   "source": [
    "predicted_bkps = algo.predict(n_bkps=n_bkps)\n",
    "\n",
    "fig, ax_arr = rpt.display(signal, bkps, predicted_bkps)\n",
    "for (signal1d_with_noise, ax) in zip(signal_with_noise.T, ax_arr):\n",
    "    ax.plot(signal1d_with_noise)\n",
    "    ax.set_xlim(0, n_samples)\n",
    "\n",
    "print(f\"error: {hausdorff(bkps, predicted_bkps)} samples\")"
   ]
  },
  {
   "cell_type": "markdown",
   "metadata": {},
   "source": [
    "### Penalized change point detection (unknown $K$)\n",
    "\n",
    "When the number of changes $K$, we can perform penalized detection:\n",
    "\n",
    "$$\n",
    "\\min_{K, t_1,\\dots,t_K} \\left[ \\left(\\sum_k \\sum_{t=t_k}^{t_{k+1}-1} \\|y_t-\\bar{y}_{t_k..t_{k+1}}\\|^2 \\right) + \\beta K \\right]\n",
    "$$\n",
    "\n",
    "when $\\beta>0$ controls the trade-off between the data fidelity and the complexity of the segmentation."
   ]
  },
  {
   "cell_type": "markdown",
   "metadata": {},
   "source": [
    "<div class=\"alert alert-success\" role=\"alert\">\n",
    "    <p><b>Question</b></p>\n",
    "    <p>When the regularization parameter increases, do we detect more or less changes?</p>\n",
    "</div>"
   ]
  },
  {
   "cell_type": "code",
   "execution_count": null,
   "metadata": {},
   "outputs": [],
   "source": []
  },
  {
   "cell_type": "markdown",
   "metadata": {},
   "source": [
    "This formulation generalizes a number of model selection criterion, for instance the well-known BIC criterion: $\\beta_{\\text{BIC}}=2\\sigma^2\\log(T)$ (where $T$ is the number of samples) for a univariate Gaussian process with piecewise constant mean and *known* variance."
   ]
  },
  {
   "cell_type": "markdown",
   "metadata": {},
   "source": [
    "<div class=\"alert alert-success\" role=\"alert\">\n",
    "    <p><b>Question</b></p>\n",
    "    <p>For a piecewise constant univariate signal with Gaussian noise, use BIC (with one and zero change) to asses the presence of a change.</p>\n",
    "</div>"
   ]
  },
  {
   "cell_type": "code",
   "execution_count": null,
   "metadata": {},
   "outputs": [],
   "source": [
    "signal, bkps = rpt.pw_constant(n_samples=n_samples, n_features=1, n_bkps=1, noise_std=1)\n",
    "\n",
    "# use the already available cost function\n",
    "cost = rpt.costs.CostL2().fit(signal)\n",
    "cost.error(10, 20)  # cost on signal[10:20]\n",
    "\n",
    "... \n",
    "\n",
    "penalized_sum_of_cost_1_change = ... # sum of costs + beta * 1\n",
    "penalized_sum_of_cost_0_change = ... # sum of costs + beta * 0"
   ]
  },
  {
   "cell_type": "code",
   "execution_count": null,
   "metadata": {},
   "outputs": [],
   "source": [
    "print(f\"BIC with one change: {penalized_sum_of_cost_1_change:.2f}\")\n",
    "print(f\"BIC with zero change: {penalized_sum_of_cost_0_change:.2f}\")\n",
    "\n",
    "if penalized_sum_of_cost_0_change > penalized_sum_of_cost_1_change:\n",
    "    print(\"There is one change.\")\n",
    "else:\n",
    "    print(\"There is no change.\")"
   ]
  },
  {
   "cell_type": "code",
   "execution_count": null,
   "metadata": {},
   "outputs": [],
   "source": [
    "\n"
   ]
  },
  {
   "cell_type": "markdown",
   "metadata": {},
   "source": [
    "<div class=\"alert alert-success\" role=\"alert\">\n",
    "    <p><b>Question</b></p>\n",
    "    <p>Do the same with the pure noise signal.</p>\n",
    "</div>"
   ]
  },
  {
   "cell_type": "code",
   "execution_count": null,
   "metadata": {},
   "outputs": [],
   "source": []
  },
  {
   "cell_type": "markdown",
   "metadata": {},
   "source": [
    "Let us apply the BIC criterion on a signal with several changes."
   ]
  },
  {
   "cell_type": "code",
   "execution_count": null,
   "metadata": {},
   "outputs": [],
   "source": [
    "# generate signal\n",
    "n_samples = 1000\n",
    "n_bkps = 5\n",
    "n_dims = 1\n",
    "noise_std = 1\n",
    "signal, bkps = rpt.pw_constant(\n",
    "    n_samples=n_samples, n_features=n_dims, n_bkps=n_bkps, noise_std=noise_std\n",
    ")"
   ]
  },
  {
   "cell_type": "markdown",
   "metadata": {},
   "source": [
    "Penalized change point detection is performed with PELT."
   ]
  },
  {
   "cell_type": "code",
   "execution_count": null,
   "metadata": {},
   "outputs": [],
   "source": [
    "pen_bic = 2 * np.log(n_samples) * noise_std**2 \n",
    "predicted_bkps = rpt.Pelt(model=\"l2\", jump=1).fit_predict(\n",
    "    signal=signal, pen=pen_bic\n",
    ")\n",
    "\n",
    "fig, ax_arr = rpt.display(signal, bkps, predicted_bkps)\n",
    "print(f\"error: {hausdorff(bkps, predicted_bkps)} samples\")"
   ]
  },
  {
   "cell_type": "markdown",
   "metadata": {},
   "source": [
    "## General distribution change (parametric)\n",
    "\n",
    "By setting the cost function to the negative max log likelihood, we can detect any (parametric) distribution change.\n",
    "\n",
    "$$\n",
    "c(y_{a..b}) = -\\max_\\theta\\log L(y_{a..b}, \\theta)\n",
    "$$\n",
    "\n",
    "where $L(\\cdot, \\theta)$ is the likelihood of a distribution parametrized by $\\theta$."
   ]
  },
  {
   "cell_type": "markdown",
   "metadata": {},
   "source": [
    "### Multivariate Gaussian"
   ]
  },
  {
   "cell_type": "markdown",
   "metadata": {},
   "source": [
    "<div class=\"alert alert-success\" role=\"alert\">\n",
    "    <p><b>Question</b></p>\n",
    "    <p>Assume a multivariate Gaussian process with piecewise constant parameters (mean and covariance matrix). Derive the associated cost function and BIC penalty.</p>\n",
    "</div>"
   ]
  },
  {
   "cell_type": "code",
   "execution_count": null,
   "metadata": {},
   "outputs": [],
   "source": [
    " "
   ]
  },
  {
   "cell_type": "markdown",
   "metadata": {},
   "source": [
    "We can define a cost function that can be used in `Dynp` and `Pelt`."
   ]
  },
  {
   "cell_type": "code",
   "execution_count": null,
   "metadata": {},
   "outputs": [],
   "source": [
    "class MultivariateNormalCost(BaseCost):\n",
    "\n",
    "    \"\"\"Custom cost for piecewise Poisson signals.\"\"\"\n",
    "\n",
    "    # The 2 following attributes must be specified for compatibility.\n",
    "    model = \"Poisson\"\n",
    "    min_size = 2\n",
    "\n",
    "    def fit(self, signal):\n",
    "        \"\"\"Set the internal parameter.\"\"\"\n",
    "        self.signal = signal\n",
    "        return self\n",
    "\n",
    "    def error(self, start, end):\n",
    "        \"\"\"Return the approximation cost on the segment [start:end].\n",
    "\n",
    "        Args:\n",
    "            start (int): start of the segment\n",
    "            end (int): end of the segment\n",
    "\n",
    "        Returns:\n",
    "            float: segment cost\n",
    "        \"\"\"\n",
    "        ..."
   ]
  },
  {
   "cell_type": "markdown",
   "metadata": {},
   "source": [
    "<div class=\"alert alert-success\" role=\"alert\">\n",
    "    <p><b>Question</b></p>\n",
    "    <p>Detect the change-points in the following signal.</p>\n",
    "</div>"
   ]
  },
  {
   "cell_type": "code",
   "execution_count": null,
   "metadata": {},
   "outputs": [],
   "source": [
    "signal = np.loadtxt(\"pw_normal.csv\")"
   ]
  },
  {
   "cell_type": "code",
   "execution_count": null,
   "metadata": {},
   "outputs": [],
   "source": []
  },
  {
   "cell_type": "markdown",
   "metadata": {},
   "source": [
    "<div class=\"alert alert-success\" role=\"alert\">\n",
    "    <p><b>Question</b></p>\n",
    "    <p>What are known limitations of the BIC criterion?</p>\n",
    "</div>"
   ]
  },
  {
   "cell_type": "code",
   "execution_count": null,
   "metadata": {},
   "outputs": [],
   "source": []
  },
  {
   "cell_type": "markdown",
   "metadata": {},
   "source": [
    "# Experiments\n",
    "\n",
    "\n",
    "[Dual-tone multi-frequency signaling](https://en.wikipedia.org/wiki/Dual-tone_multi-frequency_signaling) is a procedure to encode symbols using audio signal.\n",
    "\n",
    "A symbold is represented by a sum of cosine waves: for $t=0,1,\\dots,T-1$,\n",
    "\n",
    "$$\n",
    "y_t = \\cos(2\\pi f_1 t/f_s) + \\cos(2\\pi f_2 t/f_s)\n",
    "$$\n",
    "where each combination of $(f_1, f_2)$ represents a symbols (see table below).\n",
    "\n",
    "\n",
    "|         | 1209 Hz  | 1336 Hz  | 1477 Hz  | 1633 Hz  |\n",
    "|---------|----------|----------|----------|----------|\n",
    "| **697 Hz**  | 1        | 2        | 3        | A        |\n",
    "| **770 Hz**  | 4        | 5        | 6        | B        |\n",
    "| **852 Hz**  | 7        | 8        | 9        | C        |\n",
    "| **941 Hz**  | *        | 0        | #        | D        |"
   ]
  },
  {
   "cell_type": "code",
   "execution_count": null,
   "metadata": {},
   "outputs": [],
   "source": [
    "signal, symbols = generate_signal()"
   ]
  },
  {
   "cell_type": "code",
   "execution_count": null,
   "metadata": {},
   "outputs": [],
   "source": [
    "print(\" \".join(symbols))\n",
    "IPython.display.Audio(signal, rate=FS)"
   ]
  },
  {
   "cell_type": "markdown",
   "metadata": {},
   "source": [
    "<div class=\"alert alert-success\" role=\"alert\">\n",
    "    <p><b>Question</b></p>\n",
    "    <p>Display the short-term fourier transform of a signal. What do you observe?</p>\n",
    "</div>"
   ]
  },
  {
   "cell_type": "code",
   "execution_count": null,
   "metadata": {},
   "outputs": [],
   "source": []
  },
  {
   "cell_type": "markdown",
   "metadata": {},
   "source": [
    "<div class=\"alert alert-success\" role=\"alert\">\n",
    "    <p><b>Question</b></p>\n",
    "    <p>Design a change-point detection algorithm to find the segments of silence/sound. First assume that you know the number of changess, then relax this assumption.</p>\n",
    "</div>"
   ]
  },
  {
   "cell_type": "markdown",
   "metadata": {},
   "source": [
    "<div class=\"alert alert-success\" role=\"alert\">\n",
    "    <p><b>Question</b></p>\n",
    "    <p>Classify each segment in symbol/silence.</p>\n",
    "</div>"
   ]
  },
  {
   "cell_type": "code",
   "execution_count": null,
   "metadata": {},
   "outputs": [],
   "source": []
  },
  {
   "cell_type": "markdown",
   "metadata": {},
   "source": [
    "<div class=\"alert alert-success\" role=\"alert\">\n",
    "    <p><b>Question</b></p>\n",
    "    <p>Give the sequences of symbols for the two following sounds.</p>\n",
    "</div>"
   ]
  },
  {
   "cell_type": "code",
   "execution_count": null,
   "metadata": {},
   "outputs": [],
   "source": [
    "sound_1 = np.loadtxt(\"signal_1.csv\")\n",
    "sound_2 = np.loadtxt(\"signal_2.csv\")\n"
   ]
  }
 ],
 "metadata": {
  "kernelspec": {
   "display_name": "Python 3 (ipykernel)",
   "language": "python",
   "name": "python3"
  },
  "language_info": {
   "codemirror_mode": {
    "name": "ipython",
    "version": 3
   },
   "file_extension": ".py",
   "mimetype": "text/x-python",
   "name": "python",
   "nbconvert_exporter": "python",
   "pygments_lexer": "ipython3",
   "version": "3.10.8"
  },
  "toc-autonumbering": true,
  "toc-showcode": false
 },
 "nbformat": 4,
 "nbformat_minor": 4
}
